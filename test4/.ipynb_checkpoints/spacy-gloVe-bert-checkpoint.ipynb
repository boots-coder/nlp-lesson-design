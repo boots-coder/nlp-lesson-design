{
 "cells": [
  {
   "cell_type": "code",
   "execution_count": 20,
   "id": "85ba3389",
   "metadata": {},
   "source": [
    "import torch\n",
    "from torchtext.vocab import Vectors\n",
    "\n",
    "from torchtext.vocab import GloVe\n",
    "# 加载本地GloVe词向量\n",
    "glove_path = \"/Users/bootscoder/PycharmProjects/nlp-lesson-design/test3/.vector_cache/glove.6B.100d.txt\"\n",
    "glove = Vectors(name=glove_path)"
   ],
   "outputs": []
  },
  {
   "cell_type": "code",
   "execution_count": 37,
   "id": "08a30d7d",
   "metadata": {},
   "source": [
    "import spacy\n",
    "from spacy.tokens import Span\n",
    "\n",
    "# 加载Spacy模型\n",
    "nlp = spacy.load(\"en_core_web_sm\")\n",
    "\n",
    "# 提取的句子\n",
    "sentences = [\n",
    "    \"In the shop, these MacBooks are encased in a soft rubber enclosure - so you will never know about the razor edge until you buy it, get it home, break the seal and use it (very clever con).\",\n",
    "    \"This laptop meets every expectation and Windows 7 is great!\"\n",
    "]\n",
    "\n",
    "# 定义一个函数返回基于句法依存树的句子分割\n",
    "def syntactic_span_segmentation(doc):\n",
    "    spans = []\n",
    "    for token in doc:\n",
    "        # 找到谓语动词及其子树，作为一个跨度\n",
    "        if token.dep_ == 'ROOT':\n",
    "            subtree = list(token.subtree)\n",
    "            if len(subtree) <= 5:\n",
    "                spans.append((subtree[0].i, subtree[-1].i))\n",
    "        # 找到所有的名词短语及其子树，作为一个跨度\n",
    "        if token.dep_ in ('nsubj', 'dobj', 'pobj', 'attr'):\n",
    "            subtree = list(token.subtree)\n",
    "            if len(subtree) <= 5:\n",
    "                spans.append((subtree[0].i, subtree[-1].i))\n",
    "    return spans\n",
    "\n",
    "# 生成基于句法依存树的跨度列表\n",
    "spans_list = []\n",
    "for sentence in sentences:\n",
    "    doc = nlp(sentence)\n",
    "    spans = syntactic_span_segmentation(doc)\n",
    "    spans_list.append(spans)\n",
    "\n",
    "# 输出结果\n",
    "for spans in spans_list:\n",
    "    print(spans)\n",
    "    \n",
    "spans_list"
   ],
   "outputs": []
  },
  {
   "cell_type": "code",
   "execution_count": 40,
   "id": "f3cc9010",
   "metadata": {},
   "source": [
    "\n",
    "def spans_to_words(doc, spans):\n",
    "    words = []\n",
    "    for start, end in spans:\n",
    "        span_words = doc[start:end+1]\n",
    "        words.append(span_words.text)\n",
    "    return words\n",
    "\n",
    "\n",
    "# 转为 单词列表\n",
    "spans_list = []\n",
    "for sentence in sentences:\n",
    "    doc = nlp(sentence)\n",
    "    spans = syntactic_span_segmentation(doc)\n",
    "    spans_list.append(spans)\n",
    "word_list = []\n",
    "for sentence,spans in sentences,spans_list:\n",
    "    doc = nlp(sentence)\n",
    "    words = spans_to_words(doc, spans)\n",
    "    word_list.append(words)\n",
    "    \n",
    "word_list"
   ],
   "outputs": []
  },
  {
   "cell_type": "code",
   "execution_count": 21,
   "id": "4329fe45",
   "metadata": {},
   "source": [
    "# 将单词转换为GloVe向量，并将span内的向量相加\n",
    "def span_to_glove_vector(doc, spans):\n",
    "    span_vectors = []\n",
    "    for span in spans:\n",
    "        span_start, span_end = span\n",
    "        words = doc[span_start:span_end]\n",
    "        vector = torch.zeros(glove.dim)\n",
    "        for word in words:\n",
    "            vector += glove[word.text.lower()]\n",
    "        span_vectors.append(vector)\n",
    "    return span_vectors\n"
   ],
   "outputs": []
  },
  {
   "cell_type": "code",
   "execution_count": 23,
   "id": "895984de",
   "metadata": {},
   "source": [
    "span_to_glove_vector(doc, spans)"
   ],
   "outputs": []
  },
  {
   "cell_type": "code",
   "execution_count": null,
   "id": "40b32d98",
   "metadata": {},
   "source": [],
   "outputs": []
  }
 ],
 "metadata": {
  "kernelspec": {
   "display_name": "Python 3 (ipykernel)",
   "language": "python",
   "name": "python3"
  },
  "language_info": {
   "codemirror_mode": {
    "name": "ipython",
    "version": 3
   },
   "file_extension": ".py",
   "mimetype": "text/x-python",
   "name": "python",
   "nbconvert_exporter": "python",
   "pygments_lexer": "ipython3",
   "version": "3.11.8"
  }
 },
 "nbformat": 4,
 "nbformat_minor": 5
}
